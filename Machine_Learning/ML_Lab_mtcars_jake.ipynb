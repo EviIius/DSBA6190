{
  "cells": [
    {
      "cell_type": "markdown",
      "source": [
        "# Machine Learning Lab - Automated ML in Azure ML Studio"
      ],
      "metadata": {},
      "id": "8a95fc2e-13d5-4575-95bd-09bd5499beac"
    },
    {
      "cell_type": "markdown",
      "source": [
        "## Get Workspace Info"
      ],
      "metadata": {},
      "id": "705ceea9-17a3-435b-98c9-a6379e1ad67f"
    },
    {
      "cell_type": "code",
      "source": [
        "# Import required libraries\n",
        "from azure.identity import DefaultAzureCredential\n",
        "from azure.ai.ml import MLClient\n",
        "\n",
        "from azure.ai.ml.constants import AssetTypes\n",
        "from azure.ai.ml import automl\n",
        "from azure.ai.ml import Input\n",
        "\n",
        "import pandas as pd"
      ],
      "outputs": [],
      "execution_count": 1,
      "metadata": {
        "gather": {
          "logged": 1730326460547
        },
        "tags": []
      },
      "id": "a063f1ae-e15f-4e89-a430-353ed337307e"
    },
    {
      "cell_type": "code",
      "source": [
        "credential = DefaultAzureCredential()\n",
        "ml_client = MLClient.from_config(credential)"
      ],
      "outputs": [
        {
          "output_type": "stream",
          "name": "stderr",
          "text": "Found the config file in: /config.json\n"
        }
      ],
      "execution_count": 2,
      "metadata": {
        "gather": {
          "logged": 1730326464484
        },
        "tags": []
      },
      "id": "cc30a233-4262-430d-859f-9554f748936d"
    },
    {
      "cell_type": "code",
      "source": [
        "workspace = ml_client.workspaces.get(name=ml_client.workspace_name)"
      ],
      "outputs": [],
      "execution_count": 3,
      "metadata": {
        "gather": {
          "logged": 1730326466566
        },
        "tags": []
      },
      "id": "58295813-37c9-46bd-9e47-a598d4659ffa"
    },
    {
      "cell_type": "markdown",
      "source": [
        "## Preview Yourr Flat File Data"
      ],
      "metadata": {},
      "id": "115c8816-a6ba-4185-bd8e-2a6b971e6bd7"
    },
    {
      "cell_type": "code",
      "source": [
        "uri = \"azureml://subscriptions/e9bc187a-e9a1-46be-822e-e955a2563601/resourcegroups/rg-dsba6190-class-dev-eastus-001/workspaces/mls-dsba6190-class-dev-eastus-001/datastores/stodsba6190class/paths/epsilon/mtcars.csv\"\n",
        "df = pd.read_csv(uri)\n",
        "df = df.drop('model', axis=1)\n",
        "df.head()"
      ],
      "outputs": [
        {
          "output_type": "execute_result",
          "execution_count": 4,
          "data": {
            "text/plain": "    mpg  cyl   disp   hp  drat     wt   qsec  vs  am  gear  carb\n0  21.0    6  160.0  110  3.90  2.620  16.46   0   1     4     4\n1  21.0    6  160.0  110  3.90  2.875  17.02   0   1     4     4\n2  22.8    4  108.0   93  3.85  2.320  18.61   1   1     4     1\n3  21.4    6  258.0  110  3.08  3.215  19.44   1   0     3     1\n4  18.7    8  360.0  175  3.15  3.440  17.02   0   0     3     2",
            "text/html": "<div>\n<style scoped>\n    .dataframe tbody tr th:only-of-type {\n        vertical-align: middle;\n    }\n\n    .dataframe tbody tr th {\n        vertical-align: top;\n    }\n\n    .dataframe thead th {\n        text-align: right;\n    }\n</style>\n<table border=\"1\" class=\"dataframe\">\n  <thead>\n    <tr style=\"text-align: right;\">\n      <th></th>\n      <th>mpg</th>\n      <th>cyl</th>\n      <th>disp</th>\n      <th>hp</th>\n      <th>drat</th>\n      <th>wt</th>\n      <th>qsec</th>\n      <th>vs</th>\n      <th>am</th>\n      <th>gear</th>\n      <th>carb</th>\n    </tr>\n  </thead>\n  <tbody>\n    <tr>\n      <th>0</th>\n      <td>21.0</td>\n      <td>6</td>\n      <td>160.0</td>\n      <td>110</td>\n      <td>3.90</td>\n      <td>2.620</td>\n      <td>16.46</td>\n      <td>0</td>\n      <td>1</td>\n      <td>4</td>\n      <td>4</td>\n    </tr>\n    <tr>\n      <th>1</th>\n      <td>21.0</td>\n      <td>6</td>\n      <td>160.0</td>\n      <td>110</td>\n      <td>3.90</td>\n      <td>2.875</td>\n      <td>17.02</td>\n      <td>0</td>\n      <td>1</td>\n      <td>4</td>\n      <td>4</td>\n    </tr>\n    <tr>\n      <th>2</th>\n      <td>22.8</td>\n      <td>4</td>\n      <td>108.0</td>\n      <td>93</td>\n      <td>3.85</td>\n      <td>2.320</td>\n      <td>18.61</td>\n      <td>1</td>\n      <td>1</td>\n      <td>4</td>\n      <td>1</td>\n    </tr>\n    <tr>\n      <th>3</th>\n      <td>21.4</td>\n      <td>6</td>\n      <td>258.0</td>\n      <td>110</td>\n      <td>3.08</td>\n      <td>3.215</td>\n      <td>19.44</td>\n      <td>1</td>\n      <td>0</td>\n      <td>3</td>\n      <td>1</td>\n    </tr>\n    <tr>\n      <th>4</th>\n      <td>18.7</td>\n      <td>8</td>\n      <td>360.0</td>\n      <td>175</td>\n      <td>3.15</td>\n      <td>3.440</td>\n      <td>17.02</td>\n      <td>0</td>\n      <td>0</td>\n      <td>3</td>\n      <td>2</td>\n    </tr>\n  </tbody>\n</table>\n</div>"
          },
          "metadata": {}
        }
      ],
      "execution_count": 4,
      "metadata": {
        "gather": {
          "logged": 1730326471405
        },
        "tags": []
      },
      "id": "cb8b58b7-468f-4853-8a13-4a775a791414"
    },
    {
      "cell_type": "markdown",
      "source": [
        "## Create an MLTable Object"
      ],
      "metadata": {},
      "id": "29302422-e300-4bef-9ae2-fd8745f88044"
    },
    {
      "cell_type": "code",
      "source": [
        "import mltable\n",
        "\n",
        "# create a table from the parquet paths\n",
        "tbl = mltable.from_delimited_files(paths = [{'pattern': uri}], header='all_files_same_headers', delimiter=',')\n",
        "tbl= tbl.drop_columns(columns='model')\n",
        "\n",
        "# print the first 5 records of the table as a check\n",
        "tbl.show(5)"
      ],
      "outputs": [
        {
          "output_type": "execute_result",
          "execution_count": 5,
          "data": {
            "text/plain": "    mpg  cyl   disp   hp  drat     wt   qsec     vs     am  gear  carb\n0  21.0    6  160.0  110  3.90  2.620  16.46  False   True     4     4\n1  21.0    6  160.0  110  3.90  2.875  17.02  False   True     4     4\n2  22.8    4  108.0   93  3.85  2.320  18.61   True   True     4     1\n3  21.4    6  258.0  110  3.08  3.215  19.44   True  False     3     1\n4  18.7    8  360.0  175  3.15  3.440  17.02  False  False     3     2",
            "text/html": "<div>\n<style scoped>\n    .dataframe tbody tr th:only-of-type {\n        vertical-align: middle;\n    }\n\n    .dataframe tbody tr th {\n        vertical-align: top;\n    }\n\n    .dataframe thead th {\n        text-align: right;\n    }\n</style>\n<table border=\"1\" class=\"dataframe\">\n  <thead>\n    <tr style=\"text-align: right;\">\n      <th></th>\n      <th>mpg</th>\n      <th>cyl</th>\n      <th>disp</th>\n      <th>hp</th>\n      <th>drat</th>\n      <th>wt</th>\n      <th>qsec</th>\n      <th>vs</th>\n      <th>am</th>\n      <th>gear</th>\n      <th>carb</th>\n    </tr>\n  </thead>\n  <tbody>\n    <tr>\n      <th>0</th>\n      <td>21.0</td>\n      <td>6</td>\n      <td>160.0</td>\n      <td>110</td>\n      <td>3.90</td>\n      <td>2.620</td>\n      <td>16.46</td>\n      <td>False</td>\n      <td>True</td>\n      <td>4</td>\n      <td>4</td>\n    </tr>\n    <tr>\n      <th>1</th>\n      <td>21.0</td>\n      <td>6</td>\n      <td>160.0</td>\n      <td>110</td>\n      <td>3.90</td>\n      <td>2.875</td>\n      <td>17.02</td>\n      <td>False</td>\n      <td>True</td>\n      <td>4</td>\n      <td>4</td>\n    </tr>\n    <tr>\n      <th>2</th>\n      <td>22.8</td>\n      <td>4</td>\n      <td>108.0</td>\n      <td>93</td>\n      <td>3.85</td>\n      <td>2.320</td>\n      <td>18.61</td>\n      <td>True</td>\n      <td>True</td>\n      <td>4</td>\n      <td>1</td>\n    </tr>\n    <tr>\n      <th>3</th>\n      <td>21.4</td>\n      <td>6</td>\n      <td>258.0</td>\n      <td>110</td>\n      <td>3.08</td>\n      <td>3.215</td>\n      <td>19.44</td>\n      <td>True</td>\n      <td>False</td>\n      <td>3</td>\n      <td>1</td>\n    </tr>\n    <tr>\n      <th>4</th>\n      <td>18.7</td>\n      <td>8</td>\n      <td>360.0</td>\n      <td>175</td>\n      <td>3.15</td>\n      <td>3.440</td>\n      <td>17.02</td>\n      <td>False</td>\n      <td>False</td>\n      <td>3</td>\n      <td>2</td>\n    </tr>\n  </tbody>\n</table>\n</div>"
          },
          "metadata": {}
        }
      ],
      "execution_count": 5,
      "metadata": {
        "tags": [],
        "gather": {
          "logged": 1730326474640
        }
      },
      "id": "47fc0af2-d563-42ea-814c-5a46c3755fbc"
    },
    {
      "cell_type": "code",
      "source": [
        "mltable_uri = \"azureml://subscriptions/e9bc187a-e9a1-46be-822e-e955a2563601/resourcegroups/rg-dsba6190-class-dev-eastus-001/workspaces/mls-dsba6190-class-dev-eastus-001/datastores/stodsba6190class/paths/epsilon/mtcars_mltable\"\n",
        "tbl.save(path=mltable_uri, colocated=True, show_progress=True, overwrite=True)"
      ],
      "outputs": [
        {
          "output_type": "stream",
          "name": "stdout",
          "text": "Copying 1 files with concurrency set to 1\nCopied stodsba6190class/epsilon/mtcars.csv, file 1 out of 1. Destination path: https://stodsba6190class.blob.core.windows.net/datalake/epsilon/mtcars_mltable/stodsba6190class/epsilon/mtcars.csv\nFiles copied=1, skipped=0, failed=0\nCopying 1 files with concurrency set to 1\nCopied /tmp/tmpze4xjqix/MLTable, file 1 out of 1. Destination path: https://stodsba6190class.blob.core.windows.net/datalake/epsilon/mtcars_mltable/MLTable\nFiles copied=1, skipped=0, failed=0\n"
        },
        {
          "output_type": "execute_result",
          "execution_count": 6,
          "data": {
            "text/plain": "paths:\n- pattern: azureml://subscriptions/e9bc187a-e9a1-46be-822e-e955a2563601/resourcegroups/rg-dsba6190-class-dev-eastus-001/workspaces/mls-dsba6190-class-dev-eastus-001/datastores/stodsba6190class/paths/epsilon/mtcars.csv\ntransformations:\n- read_delimited:\n    delimiter: ','\n    empty_as_string: false\n    encoding: utf8\n    header: all_files_same_headers\n    include_path_column: false\n    infer_column_types: true\n    partition_size: 20971520\n    path_column: Path\n    support_multi_line: false\n- drop_columns: model\ntype: mltable"
          },
          "metadata": {}
        }
      ],
      "execution_count": 6,
      "metadata": {
        "tags": [],
        "gather": {
          "logged": 1730326478070
        }
      },
      "id": "6ab8f843-7dd3-43cd-8dc2-6a31f602d4ac"
    },
    {
      "cell_type": "markdown",
      "source": [
        "## Create Experiment"
      ],
      "metadata": {},
      "id": "e37743a1-5f42-4021-bb46-82e91fc0229b"
    },
    {
      "cell_type": "code",
      "source": [
        "my_training_data_input = Input(type=AssetTypes.MLTABLE, path=mltable_uri)"
      ],
      "outputs": [],
      "execution_count": 7,
      "metadata": {
        "tags": [],
        "gather": {
          "logged": 1730326496728
        }
      },
      "id": "30bb876e-fc4a-44eb-81a7-172b2f356b35"
    },
    {
      "cell_type": "code",
      "source": [
        "# general job parameters\n",
        "max_trials = 5\n",
        "exp_name = \"jake-mtcars-experiment\""
      ],
      "outputs": [],
      "execution_count": 8,
      "metadata": {
        "tags": [],
        "gather": {
          "logged": 1730326500985
        }
      },
      "id": "5570f75a-434a-42db-9a2c-ecd4f5dd36ee"
    },
    {
      "cell_type": "code",
      "source": [
        "regression_job = automl.regression(\n",
        "    experiment_name=exp_name,\n",
        "    training_data=my_training_data_input,\n",
        "    target_column_name=\"mpg\",\n",
        "    primary_metric=\"R2Score\",\n",
        "    # n_cross_validations=5,\n",
        "    enable_model_explainability=True\n",
        ")\n",
        "\n",
        "# Limits are all optional\n",
        "regression_job.set_limits(\n",
        "    timeout_minutes=600,\n",
        "    trial_timeout_minutes=20,\n",
        "    max_trials=max_trials,\n",
        "    # max_concurrent_trials = 4,\n",
        "    # max_cores_per_trial: -1,\n",
        "    enable_early_termination=True,\n",
        ")"
      ],
      "outputs": [],
      "execution_count": 9,
      "metadata": {
        "tags": [],
        "gather": {
          "logged": 1730326504392
        }
      },
      "id": "0e670618-87ce-47d0-831e-76a5e9b50c2d"
    },
    {
      "cell_type": "markdown",
      "source": [
        "## Submit Job"
      ],
      "metadata": {},
      "id": "15bf007f-124f-4893-bf87-883088d3e1c0"
    },
    {
      "cell_type": "code",
      "source": [
        "# Submit the AutoML job\n",
        "returned_job = ml_client.jobs.create_or_update(\n",
        "    regression_job\n",
        ")  # submit the job to the backend\n",
        "\n",
        "print(f\"Created job: {returned_job}\")"
      ],
      "outputs": [
        {
          "output_type": "stream",
          "name": "stdout",
          "text": "Created job: compute: azureml:/subscriptions/e9bc187a-e9a1-46be-822e-e955a2563601/resourceGroups/rg-dsba6190-class-dev-eastus-001/providers/Microsoft.MachineLearningServices/workspaces/mls-dsba6190-class-dev-eastus-001/computes/\ncreation_context:\n  created_at: '2024-10-30T22:15:09.001799+00:00'\n  created_by: Jake Brulato\n  created_by_type: User\ndisplay_name: salmon_bone_r11wzzfty1\nexperiment_name: jake-mtcars-experiment\nid: azureml:/subscriptions/e9bc187a-e9a1-46be-822e-e955a2563601/resourceGroups/rg-dsba6190-class-dev-eastus-001/providers/Microsoft.MachineLearningServices/workspaces/mls-dsba6190-class-dev-eastus-001/jobs/salmon_bone_r11wzzfty1\nlimits:\n  enable_early_termination: true\n  max_concurrent_trials: 1\n  max_cores_per_trial: -1\n  max_nodes: 1\n  max_trials: 5\n  timeout_minutes: 600\n  trial_timeout_minutes: 20\nlog_verbosity: info\nname: salmon_bone_r11wzzfty1\noutputs: {}\nprimary_metric: r2_score\nproperties: {}\nqueue_settings:\n  job_tier: 'null'\nresources:\n  instance_count: 1\n  shm_size: 2g\nservices:\n  Studio:\n    endpoint: https://ml.azure.com/runs/salmon_bone_r11wzzfty1?wsid=/subscriptions/e9bc187a-e9a1-46be-822e-e955a2563601/resourcegroups/rg-dsba6190-class-dev-eastus-001/workspaces/mls-dsba6190-class-dev-eastus-001&tid=88d59d7d-aecb-41b2-90c5-55595de02536\n  Tracking:\n    endpoint: azureml://eastus.api.azureml.ms/mlflow/v1.0/subscriptions/e9bc187a-e9a1-46be-822e-e955a2563601/resourceGroups/rg-dsba6190-class-dev-eastus-001/providers/Microsoft.MachineLearningServices/workspaces/mls-dsba6190-class-dev-eastus-001?\nstatus: NotStarted\ntags: {}\ntarget_column_name: mpg\ntask: regression\ntraining:\n  enable_dnn_training: false\n  enable_model_explainability: true\n  enable_onnx_compatible_models: false\n  enable_stack_ensemble: true\n  enable_vote_ensemble: true\n  ensemble_model_download_timeout_minutes: 5\n  training_mode: auto\ntraining_data:\n  path: azureml://subscriptions/e9bc187a-e9a1-46be-822e-e955a2563601/resourcegroups/rg-dsba6190-class-dev-eastus-001/workspaces/mls-dsba6190-class-dev-eastus-001/datastores/stodsba6190class/paths/epsilon/mtcars_mltable\n  type: mltable\ntype: automl\n\n"
        }
      ],
      "execution_count": 10,
      "metadata": {
        "tags": [],
        "gather": {
          "logged": 1730326509497
        }
      },
      "id": "f8fbfe73-361f-45fd-8978-46c1e3fc9d83"
    },
    {
      "cell_type": "code",
      "source": [
        "# Wait for job to complete and stream updates\n",
        "ml_client.jobs.stream(returned_job.name)"
      ],
      "outputs": [
        {
          "output_type": "stream",
          "name": "stdout",
          "text": "RunId: salmon_bone_r11wzzfty1\nWeb View: https://ml.azure.com/runs/salmon_bone_r11wzzfty1?wsid=/subscriptions/e9bc187a-e9a1-46be-822e-e955a2563601/resourcegroups/rg-dsba6190-class-dev-eastus-001/workspaces/mls-dsba6190-class-dev-eastus-001\n\nExecution Summary\n=================\nRunId: salmon_bone_r11wzzfty1\nWeb View: https://ml.azure.com/runs/salmon_bone_r11wzzfty1?wsid=/subscriptions/e9bc187a-e9a1-46be-822e-e955a2563601/resourcegroups/rg-dsba6190-class-dev-eastus-001/workspaces/mls-dsba6190-class-dev-eastus-001\n\n"
        }
      ],
      "execution_count": 11,
      "metadata": {
        "tags": [],
        "gather": {
          "logged": 1730327473461
        }
      },
      "id": "9f4f0d33-8704-4386-9421-05e8d2c6c515"
    },
    {
      "cell_type": "code",
      "source": [
        "# Get a URL for the status of the job\n",
        "returned_job.services[\"Studio\"].endpoint"
      ],
      "outputs": [
        {
          "output_type": "execute_result",
          "execution_count": 13,
          "data": {
            "text/plain": "'https://ml.azure.com/runs/salmon_bone_r11wzzfty1?wsid=/subscriptions/e9bc187a-e9a1-46be-822e-e955a2563601/resourcegroups/rg-dsba6190-class-dev-eastus-001/workspaces/mls-dsba6190-class-dev-eastus-001&tid=88d59d7d-aecb-41b2-90c5-55595de02536'"
          },
          "metadata": {}
        }
      ],
      "execution_count": 13,
      "metadata": {
        "tags": [],
        "gather": {
          "logged": 1730327481741
        }
      },
      "id": "5e1ba624-fb62-4e00-a7b9-93fe684f200f"
    },
    {
      "cell_type": "code",
      "source": [
        "print(returned_job.name)"
      ],
      "outputs": [
        {
          "output_type": "stream",
          "name": "stdout",
          "text": "salmon_bone_r11wzzfty1\n"
        }
      ],
      "execution_count": 14,
      "metadata": {
        "tags": [],
        "gather": {
          "logged": 1730327484464
        }
      },
      "id": "0365b47a-39b2-48f9-bcc3-d0058ff2df82"
    },
    {
      "cell_type": "markdown",
      "source": [
        "## Get Best Model"
      ],
      "metadata": {},
      "id": "05357469-299b-46db-9d4d-c63a8e4b1214"
    },
    {
      "cell_type": "code",
      "source": [
        "## Obtain the tracking URI for MLFlow\n",
        "import mlflow\n",
        "\n",
        "# Obtain the tracking URL from MLClient\n",
        "MLFLOW_TRACKING_URI = ml_client.workspaces.get(\n",
        "    name=ml_client.workspace_name\n",
        ").mlflow_tracking_uri\n",
        "\n",
        "print(MLFLOW_TRACKING_URI)"
      ],
      "outputs": [
        {
          "output_type": "stream",
          "name": "stdout",
          "text": "azureml://eastus.api.azureml.ms/mlflow/v1.0/subscriptions/e9bc187a-e9a1-46be-822e-e955a2563601/resourceGroups/rg-dsba6190-class-dev-eastus-001/providers/Microsoft.MachineLearningServices/workspaces/mls-dsba6190-class-dev-eastus-001\n"
        }
      ],
      "execution_count": 15,
      "metadata": {
        "tags": [],
        "gather": {
          "logged": 1730327493727
        }
      },
      "id": "3b26384c-dfe2-431b-841e-014b4a8105bc"
    },
    {
      "cell_type": "code",
      "source": [
        "# Set the MLFLOW TRACKING URI\n",
        "\n",
        "mlflow.set_tracking_uri(MLFLOW_TRACKING_URI)\n",
        "\n",
        "print(\"\\nCurrent tracking uri: {}\".format(mlflow.get_tracking_uri()))"
      ],
      "outputs": [
        {
          "output_type": "stream",
          "name": "stdout",
          "text": "\nCurrent tracking uri: azureml://eastus.api.azureml.ms/mlflow/v1.0/subscriptions/e9bc187a-e9a1-46be-822e-e955a2563601/resourceGroups/rg-dsba6190-class-dev-eastus-001/providers/Microsoft.MachineLearningServices/workspaces/mls-dsba6190-class-dev-eastus-001\n"
        }
      ],
      "execution_count": 16,
      "metadata": {
        "tags": [],
        "gather": {
          "logged": 1730327498308
        }
      },
      "id": "72fd229a-7186-45e9-ae37-84d92d697ac8"
    },
    {
      "cell_type": "code",
      "source": [
        "from mlflow.tracking.client import MlflowClient\n",
        "from mlflow.artifacts import download_artifacts\n",
        "\n",
        "# Initialize MLFlow client\n",
        "mlflow_client = MlflowClient()"
      ],
      "outputs": [
        {
          "output_type": "stream",
          "name": "stderr",
          "text": "/anaconda/envs/azureml_py310_sdkv2/lib/python3.10/site-packages/azureml/mlflow/_protos/aml_service_pb2.py:10: UserWarning: google.protobuf.service module is deprecated. RPC implementations should provide code generator plugins which generate code specific to the RPC implementation. service.py will be removed in Jan 2025\n  from google.protobuf import service as _service\n"
        }
      ],
      "execution_count": 17,
      "metadata": {
        "tags": [],
        "gather": {
          "logged": 1730327504945
        }
      },
      "id": "7b95c296-e885-42d1-b407-63b8b80bb60b"
    },
    {
      "cell_type": "code",
      "source": [
        "# Get the AutoML parent Job\n",
        "job_name = returned_job.name\n",
        "\n",
        "# Example if providing an specific Job name/ID\n",
        "# job_name = \"b4e95546-0aa1-448e-9ad6-002e3207b4fc\"\n",
        "\n",
        "# Get the parent run\n",
        "mlflow_parent_run = mlflow_client.get_run(job_name)\n",
        "\n",
        "print(\"Parent Run: \")\n",
        "print(mlflow_parent_run)"
      ],
      "outputs": [
        {
          "output_type": "stream",
          "name": "stdout",
          "text": "Parent Run: \n<Run: data=<RunData: metrics={'explained_variance': 0.9873667429871951,\n 'mean_absolute_error': 0.2533623619074189,\n 'mean_absolute_percentage_error': 1.1222824207482647,\n 'median_absolute_error': 0.12242908859067284,\n 'normalized_mean_absolute_error': 0.010781377102443358,\n 'normalized_median_absolute_error': 0.005209748450666929,\n 'normalized_root_mean_squared_error': 0.015474058328575128,\n 'normalized_root_mean_squared_log_error': 0.012953570611092447,\n 'r2_score': 0.9810285049021514,\n 'root_mean_squared_error': 0.3636403707215155,\n 'root_mean_squared_log_error': 0.014493406547849336,\n 'spearman_correlation': 0.9976641969574278}, params={}, tags={'_azureml.ComputeTargetType': '',\n 'automl_best_child_run_id': 'salmon_bone_r11wzzfty1_4',\n 'fit_time_000': '0.0106233;0.3071656;0.30686749999999996;2;3',\n 'iteration_000': '0;1;2;3;4',\n 'mlflow.rootRunId': 'salmon_bone_r11wzzfty1',\n 'mlflow.runName': 'salmon_bone_r11wzzfty1',\n 'mlflow.user': 'Jake Brulato',\n 'model_explain_best_run_child_id': 'salmon_bone_r11wzzfty1_4',\n 'model_explain_run': 'best_run',\n 'pipeline_id_000': 'faf12f74cf9bbd358ca5525682c5030d36f7be7c;4bc4ec47eb8df2d5d68b361cd60120e65196f757;5cc37daec73ea64276ef956449645cdb519fdfc6;__AutoML_Ensemble__;__AutoML_Stack_Ensemble__',\n 'predicted_cost_000': '0;0;0.5;0;0',\n 'run_algorithm_000': 'LightGBM;XGBoostRegressor;XGBoostRegressor;VotingEnsemble;StackEnsemble',\n 'run_preprocessor_000': 'MaxAbsScaler;MaxAbsScaler;StandardScalerWrapper;;',\n 'score_000': '0.6907880558394194;0.9809442455316771;-1;0.9809442455316771;0.9810285049021514',\n 'training_percent_000': '100;100;100;100;100'}>, info=<RunInfo: artifact_uri='azureml://eastus.api.azureml.ms/mlflow/v2.0/subscriptions/e9bc187a-e9a1-46be-822e-e955a2563601/resourceGroups/rg-dsba6190-class-dev-eastus-001/providers/Microsoft.MachineLearningServices/workspaces/mls-dsba6190-class-dev-eastus-001/experiments/be8b9c59-c70e-44c1-a56f-53f32c35eff7/runs/salmon_bone_r11wzzfty1/artifacts', end_time=1730327416831, experiment_id='be8b9c59-c70e-44c1-a56f-53f32c35eff7', lifecycle_stage='active', run_id='salmon_bone_r11wzzfty1', run_name='salmon_bone_r11wzzfty1', run_uuid='salmon_bone_r11wzzfty1', start_time=1730326524278, status='FINISHED', user_id='d86085f5-0191-4f90-a7bb-6209b56c3ca4'>, inputs=<RunInputs: dataset_inputs=[]>>\n"
        }
      ],
      "execution_count": 18,
      "metadata": {
        "tags": [],
        "gather": {
          "logged": 1730327528111
        }
      },
      "id": "e5ecf5f0-27f2-4b59-a89b-ddfeee4aba85"
    },
    {
      "cell_type": "code",
      "source": [
        "# Print parent run tags. 'automl_best_child_run_id' tag should be there.\n",
        "print(mlflow_parent_run.data.tags)"
      ],
      "outputs": [
        {
          "output_type": "stream",
          "name": "stdout",
          "text": "{'model_explain_run': 'best_run', '_azureml.ComputeTargetType': '', 'pipeline_id_000': 'faf12f74cf9bbd358ca5525682c5030d36f7be7c;4bc4ec47eb8df2d5d68b361cd60120e65196f757;5cc37daec73ea64276ef956449645cdb519fdfc6;__AutoML_Ensemble__;__AutoML_Stack_Ensemble__', 'score_000': '0.6907880558394194;0.9809442455316771;-1;0.9809442455316771;0.9810285049021514', 'predicted_cost_000': '0;0;0.5;0;0', 'fit_time_000': '0.0106233;0.3071656;0.30686749999999996;2;3', 'training_percent_000': '100;100;100;100;100', 'iteration_000': '0;1;2;3;4', 'run_preprocessor_000': 'MaxAbsScaler;MaxAbsScaler;StandardScalerWrapper;;', 'run_algorithm_000': 'LightGBM;XGBoostRegressor;XGBoostRegressor;VotingEnsemble;StackEnsemble', 'automl_best_child_run_id': 'salmon_bone_r11wzzfty1_4', 'model_explain_best_run_child_id': 'salmon_bone_r11wzzfty1_4', 'mlflow.rootRunId': 'salmon_bone_r11wzzfty1', 'mlflow.runName': 'salmon_bone_r11wzzfty1', 'mlflow.user': 'Jake Brulato'}\n"
        }
      ],
      "execution_count": 19,
      "metadata": {
        "tags": [],
        "gather": {
          "logged": 1730327537914
        }
      },
      "id": "a12803a3-9d6c-4340-945d-a145c16415ed"
    },
    {
      "cell_type": "code",
      "source": [
        "# Get the AutoML best child run\n",
        "\n",
        "best_child_run_id = mlflow_parent_run.data.tags[\"automl_best_child_run_id\"]\n",
        "print(\"Found best child run id: \", best_child_run_id)\n",
        "\n",
        "best_run = mlflow_client.get_run(best_child_run_id)\n",
        "\n",
        "print(\"Best child run: \")\n",
        "print(best_run)"
      ],
      "outputs": [
        {
          "output_type": "stream",
          "name": "stdout",
          "text": "Found best child run id:  salmon_bone_r11wzzfty1_4\nBest child run: \n<Run: data=<RunData: metrics={'explained_variance': 0.9873667429871951,\n 'mean_absolute_error': 0.2533623619074189,\n 'mean_absolute_percentage_error': 1.1222824207482647,\n 'median_absolute_error': 0.12242908859067284,\n 'normalized_mean_absolute_error': 0.010781377102443358,\n 'normalized_median_absolute_error': 0.005209748450666929,\n 'normalized_root_mean_squared_error': 0.015474058328575128,\n 'normalized_root_mean_squared_log_error': 0.012953570611092447,\n 'r2_score': 0.9810285049021514,\n 'root_mean_squared_error': 0.3636403707215155,\n 'root_mean_squared_log_error': 0.014493406547849336,\n 'spearman_correlation': 0.9976641969574278}, params={}, tags={'mlflow.parentRunId': 'salmon_bone_r11wzzfty1',\n 'mlflow.rootRunId': 'salmon_bone_r11wzzfty1',\n 'mlflow.runName': 'upbeat_feast_83dqybvq',\n 'mlflow.source.name': 'automl_driver.py',\n 'mlflow.source.type': 'JOB',\n 'mlflow.user': 'Jake Brulato',\n 'model_explain_run_id': 'salmon_bone_r11wzzfty1_ModelExplain',\n 'model_explanation': 'True'}>, info=<RunInfo: artifact_uri='azureml://eastus.api.azureml.ms/mlflow/v2.0/subscriptions/e9bc187a-e9a1-46be-822e-e955a2563601/resourceGroups/rg-dsba6190-class-dev-eastus-001/providers/Microsoft.MachineLearningServices/workspaces/mls-dsba6190-class-dev-eastus-001/experiments/be8b9c59-c70e-44c1-a56f-53f32c35eff7/runs/salmon_bone_r11wzzfty1_4/artifacts', end_time=1730327415824, experiment_id='be8b9c59-c70e-44c1-a56f-53f32c35eff7', lifecycle_stage='active', run_id='salmon_bone_r11wzzfty1_4', run_name='upbeat_feast_83dqybvq', run_uuid='salmon_bone_r11wzzfty1_4', start_time=1730327373101, status='FINISHED', user_id='d86085f5-0191-4f90-a7bb-6209b56c3ca4'>, inputs=<RunInputs: dataset_inputs=[]>>\n"
        }
      ],
      "execution_count": 20,
      "metadata": {
        "tags": [],
        "gather": {
          "logged": 1730327550736
        }
      },
      "id": "a995fb73-3480-412f-9c3e-9f2f6446ca00"
    },
    {
      "cell_type": "code",
      "source": [
        "# Get best model run's metrics\n",
        "best_run.data.metrics"
      ],
      "outputs": [
        {
          "output_type": "execute_result",
          "execution_count": 21,
          "data": {
            "text/plain": "{'r2_score': 0.9810285049021514,\n 'median_absolute_error': 0.12242908859067284,\n 'explained_variance': 0.9873667429871951,\n 'root_mean_squared_error': 0.3636403707215155,\n 'root_mean_squared_log_error': 0.014493406547849336,\n 'normalized_mean_absolute_error': 0.010781377102443358,\n 'normalized_root_mean_squared_log_error': 0.012953570611092447,\n 'normalized_median_absolute_error': 0.005209748450666929,\n 'mean_absolute_error': 0.2533623619074189,\n 'mean_absolute_percentage_error': 1.1222824207482647,\n 'spearman_correlation': 0.9976641969574278,\n 'normalized_root_mean_squared_error': 0.015474058328575128}"
          },
          "metadata": {}
        }
      ],
      "execution_count": 21,
      "metadata": {
        "tags": [],
        "gather": {
          "logged": 1730327554520
        }
      },
      "id": "209da11f-4611-493a-9771-4242e9c4b58b"
    },
    {
      "cell_type": "markdown",
      "source": [
        "## Deploying the Best Model as an API Endpoint"
      ],
      "metadata": {},
      "id": "9aff9065-31a0-45db-91f1-e6ce0e090cd6"
    },
    {
      "cell_type": "markdown",
      "source": [
        "### Create Managed Endpoint"
      ],
      "metadata": {},
      "id": "ae46d9c7-429b-4164-9fb7-e94151d3855b"
    },
    {
      "cell_type": "code",
      "source": [
        "# import required libraries\n",
        "from azure.ai.ml.entities import (\n",
        "    ManagedOnlineEndpoint,\n",
        "    ManagedOnlineDeployment,\n",
        "    Model,\n",
        "    Environment,\n",
        "    CodeConfiguration,\n",
        "    ProbeSettings,\n",
        ")\n",
        "from azure.ai.ml.constants import ModelType"
      ],
      "outputs": [],
      "execution_count": 22,
      "metadata": {
        "tags": [],
        "gather": {
          "logged": 1730327591910
        }
      },
      "id": "7e6b0d12-ffd9-4e5c-9650-fe4340fb28cc"
    },
    {
      "cell_type": "code",
      "source": [
        "# Creating a unique endpoint name with current datetime to avoid conflicts\n",
        "import datetime\n",
        "\n",
        "online_endpoint_name = \"jake-mtcars-endpoint-01\"\n",
        "\n",
        "# create an online endpoint\n",
        "endpoint = ManagedOnlineEndpoint(\n",
        "    name=online_endpoint_name,\n",
        "    description=\"online endpoint for the jake's mtcars AutoML model\",\n",
        "    auth_mode=\"key\"\n",
        ")"
      ],
      "outputs": [],
      "execution_count": 23,
      "metadata": {
        "tags": [],
        "gather": {
          "logged": 1730327611692
        }
      },
      "id": "368f0c83-5234-41f4-a219-a86ca3426cdb"
    },
    {
      "cell_type": "code",
      "source": [
        "ml_client.begin_create_or_update(endpoint).result()"
      ],
      "outputs": [
        {
          "output_type": "execute_result",
          "execution_count": 24,
          "data": {
            "text/plain": "ManagedOnlineEndpoint({'public_network_access': 'Enabled', 'provisioning_state': 'Succeeded', 'scoring_uri': 'https://jake-mtcars-endpoint-01.eastus.inference.ml.azure.com/score', 'openapi_uri': 'https://jake-mtcars-endpoint-01.eastus.inference.ml.azure.com/swagger.json', 'name': 'jake-mtcars-endpoint-01', 'description': \"online endpoint for the jake's mtcars AutoML model\", 'tags': {}, 'properties': {'createdBy': 'Jake Brulato', 'createdAt': '2024-10-30T22:33:42.540566+0000', 'lastModifiedAt': '2024-10-30T22:33:42.540566+0000', 'azureml.onlineendpointid': '/subscriptions/e9bc187a-e9a1-46be-822e-e955a2563601/resourcegroups/rg-dsba6190-class-dev-eastus-001/providers/microsoft.machinelearningservices/workspaces/mls-dsba6190-class-dev-eastus-001/onlineendpoints/jake-mtcars-endpoint-01', 'AzureAsyncOperationUri': 'https://management.azure.com/subscriptions/e9bc187a-e9a1-46be-822e-e955a2563601/providers/Microsoft.MachineLearningServices/locations/eastus/mfeOperationsStatus/oeidp:25d84a7a-c070-46c4-b283-0de91b6aa4e9:65143aa8-eb88-422a-aef0-d406e9c58c98?api-version=2022-02-01-preview'}, 'print_as_yaml': False, 'id': '/subscriptions/e9bc187a-e9a1-46be-822e-e955a2563601/resourceGroups/rg-dsba6190-class-dev-eastus-001/providers/Microsoft.MachineLearningServices/workspaces/mls-dsba6190-class-dev-eastus-001/onlineEndpoints/jake-mtcars-endpoint-01', 'Resource__source_path': '', 'base_path': '/mnt/batch/tasks/shared/LS_root/mounts/clusters/jakebrulato/code/Users/jbrulato', 'creation_context': None, 'serialize': <msrest.serialization.Serializer object at 0x7f233d280dc0>, 'auth_mode': 'key', 'location': 'eastus', 'identity': <azure.ai.ml.entities._credentials.IdentityConfiguration object at 0x7f233d280a90>, 'traffic': {}, 'mirror_traffic': {}, 'kind': 'Managed'})"
          },
          "metadata": {}
        }
      ],
      "execution_count": 24,
      "metadata": {
        "tags": [],
        "gather": {
          "logged": 1730327683782
        }
      },
      "id": "e757086b-807b-484d-9f55-434dd9549561"
    },
    {
      "cell_type": "markdown",
      "source": [
        "### Register Best Model"
      ],
      "metadata": {},
      "id": "893dc3a8-b457-46b4-9adc-906cc4ca12e2"
    },
    {
      "cell_type": "code",
      "source": [
        "model_name = \"jake-mtcars-model\"\n",
        "model = Model(\n",
        "    path=f\"azureml://jobs/{best_run.info.run_id}/outputs/artifacts/outputs/mlflow-model/\",\n",
        "    name=model_name,\n",
        "    description=\"Instructor diabetes regression AutoML model\",\n",
        "    type=AssetTypes.MLFLOW_MODEL,\n",
        ")\n",
        "\n",
        "registered_model = ml_client.models.create_or_update(model)"
      ],
      "outputs": [],
      "execution_count": 25,
      "metadata": {
        "tags": [],
        "gather": {
          "logged": 1730327787184
        }
      },
      "id": "d91ab31b-5251-4499-a39b-1a20ca04b227"
    },
    {
      "cell_type": "code",
      "source": [
        "registered_model.id"
      ],
      "outputs": [
        {
          "output_type": "execute_result",
          "execution_count": 26,
          "data": {
            "text/plain": "'/subscriptions/e9bc187a-e9a1-46be-822e-e955a2563601/resourceGroups/rg-dsba6190-class-dev-eastus-001/providers/Microsoft.MachineLearningServices/workspaces/mls-dsba6190-class-dev-eastus-001/models/jake-mtcars-model/versions/1'"
          },
          "metadata": {}
        }
      ],
      "execution_count": 26,
      "metadata": {
        "tags": [],
        "gather": {
          "logged": 1730327790359
        }
      },
      "id": "e09d76d5-b360-43e0-8099-785218202d23"
    },
    {
      "cell_type": "markdown",
      "source": [
        "### Deploy"
      ],
      "metadata": {
        "tags": []
      },
      "id": "8ef351a0-a115-4319-a1c8-14caeba270a2"
    },
    {
      "cell_type": "code",
      "source": [
        "deployment = ManagedOnlineDeployment(\n",
        "    name=\"jake-mtcars-deploy\",\n",
        "    endpoint_name=online_endpoint_name,\n",
        "    model=registered_model.id,\n",
        "    instance_type=\"Standard_DS3_V2\",\n",
        "    instance_count=1,\n",
        "    liveness_probe=ProbeSettings(\n",
        "        failure_threshold=30,\n",
        "        success_threshold=1,\n",
        "        timeout=2,\n",
        "        period=10,\n",
        "        initial_delay=2000,\n",
        "    ),\n",
        "    readiness_probe=ProbeSettings(\n",
        "        failure_threshold=10,\n",
        "        success_threshold=1,\n",
        "        timeout=10,\n",
        "        period=10,\n",
        "        initial_delay=2000,\n",
        "    ),\n",
        ")"
      ],
      "outputs": [],
      "execution_count": 27,
      "metadata": {
        "tags": [],
        "gather": {
          "logged": 1730327814727
        }
      },
      "id": "948d1f30-7b52-4cb5-a6bd-651979c2436c"
    },
    {
      "cell_type": "code",
      "source": [
        "ml_client.online_deployments.begin_create_or_update(deployment).result()"
      ],
      "outputs": [
        {
          "output_type": "stream",
          "name": "stderr",
          "text": "Check: endpoint jake-mtcars-endpoint-01 exists\n"
        },
        {
          "output_type": "stream",
          "name": "stdout",
          "text": "......................................................................................................................................................................................................................................................................................................................................................................................................................................................................................................"
        },
        {
          "output_type": "execute_result",
          "execution_count": 28,
          "data": {
            "text/plain": "ManagedOnlineDeployment({'private_network_connection': None, 'package_model': False, 'provisioning_state': 'Succeeded', 'endpoint_name': 'jake-mtcars-endpoint-01', 'type': 'Managed', 'name': 'jake-mtcars-deploy', 'description': None, 'tags': {}, 'properties': {'AzureAsyncOperationUri': 'https://management.azure.com/subscriptions/e9bc187a-e9a1-46be-822e-e955a2563601/providers/Microsoft.MachineLearningServices/locations/eastus/mfeOperationsStatus/odidp:25d84a7a-c070-46c4-b283-0de91b6aa4e9:d9a02828-36e9-43c8-acdd-4b3cc051d81e?api-version=2023-04-01-preview'}, 'print_as_yaml': False, 'id': '/subscriptions/e9bc187a-e9a1-46be-822e-e955a2563601/resourceGroups/rg-dsba6190-class-dev-eastus-001/providers/Microsoft.MachineLearningServices/workspaces/mls-dsba6190-class-dev-eastus-001/onlineEndpoints/jake-mtcars-endpoint-01/deployments/jake-mtcars-deploy', 'Resource__source_path': '', 'base_path': '/mnt/batch/tasks/shared/LS_root/mounts/clusters/jakebrulato/code/Users/jbrulato', 'creation_context': <azure.ai.ml._restclient.v2023_04_01_preview.models._models_py3.SystemData object at 0x7f233d2823b0>, 'serialize': <msrest.serialization.Serializer object at 0x7f233d280760>, 'model': '/subscriptions/e9bc187a-e9a1-46be-822e-e955a2563601/resourceGroups/rg-dsba6190-class-dev-eastus-001/providers/Microsoft.MachineLearningServices/workspaces/mls-dsba6190-class-dev-eastus-001/models/jake-mtcars-model/versions/1', 'code_configuration': None, 'environment': '/subscriptions/e9bc187a-e9a1-46be-822e-e955a2563601/resourceGroups/rg-dsba6190-class-dev-eastus-001/providers/Microsoft.MachineLearningServices/workspaces/mls-dsba6190-class-dev-eastus-001/environments/DefaultNcdEnv-ai-ml-automl/versions/7', 'environment_variables': {'AML_APP_ROOT': '/var/mlflow_resources', 'AZUREML_ENTRY_SCRIPT': 'mlflow_score_script.py', 'AZUREML_MODEL_DIR': '/var/azureml-app/azureml-models/jake-mtcars-model/1'}, 'app_insights_enabled': False, 'scale_settings': <azure.ai.ml.entities._deployment.scale_settings.DefaultScaleSettings object at 0x7f233d280580>, 'request_settings': <azure.ai.ml.entities._deployment.deployment_settings.OnlineRequestSettings object at 0x7f233d282350>, 'liveness_probe': <azure.ai.ml.entities._deployment.deployment_settings.ProbeSettings object at 0x7f233d281b40>, 'readiness_probe': <azure.ai.ml.entities._deployment.deployment_settings.ProbeSettings object at 0x7f233d283430>, 'instance_count': 1, 'arm_type': 'online_deployment', 'model_mount_path': None, 'instance_type': 'Standard_DS3_V2', 'data_collector': None, 'egress_public_network_access': 'Enabled'})"
          },
          "metadata": {}
        }
      ],
      "execution_count": 28,
      "metadata": {
        "tags": [],
        "gather": {
          "logged": 1730330343383
        }
      },
      "id": "b9c17558-9ed8-4885-9024-f07e59df5ec4"
    },
    {
      "cell_type": "code",
      "source": [
        "endpoint.traffic = {\"jake-mtcars-deploy\": 100}\n",
        "ml_client.begin_create_or_update(endpoint).result()"
      ],
      "outputs": [
        {
          "output_type": "execute_result",
          "execution_count": 29,
          "data": {
            "text/plain": "ManagedOnlineEndpoint({'public_network_access': 'Enabled', 'provisioning_state': 'Succeeded', 'scoring_uri': 'https://jake-mtcars-endpoint-01.eastus.inference.ml.azure.com/score', 'openapi_uri': 'https://jake-mtcars-endpoint-01.eastus.inference.ml.azure.com/swagger.json', 'name': 'jake-mtcars-endpoint-01', 'description': \"online endpoint for the jake's mtcars AutoML model\", 'tags': {}, 'properties': {'createdBy': 'Jake Brulato', 'createdAt': '2024-10-30T22:33:42.540566+0000', 'lastModifiedAt': '2024-10-30T22:33:42.540566+0000', 'azureml.onlineendpointid': '/subscriptions/e9bc187a-e9a1-46be-822e-e955a2563601/resourcegroups/rg-dsba6190-class-dev-eastus-001/providers/microsoft.machinelearningservices/workspaces/mls-dsba6190-class-dev-eastus-001/onlineendpoints/jake-mtcars-endpoint-01', 'AzureAsyncOperationUri': 'https://management.azure.com/subscriptions/e9bc187a-e9a1-46be-822e-e955a2563601/providers/Microsoft.MachineLearningServices/locations/eastus/mfeOperationsStatus/oeidp:25d84a7a-c070-46c4-b283-0de91b6aa4e9:1d5ae2b3-78f9-4b3b-a647-4b49ef6f2867?api-version=2022-02-01-preview'}, 'print_as_yaml': False, 'id': '/subscriptions/e9bc187a-e9a1-46be-822e-e955a2563601/resourceGroups/rg-dsba6190-class-dev-eastus-001/providers/Microsoft.MachineLearningServices/workspaces/mls-dsba6190-class-dev-eastus-001/onlineEndpoints/jake-mtcars-endpoint-01', 'Resource__source_path': '', 'base_path': '/mnt/batch/tasks/shared/LS_root/mounts/clusters/jakebrulato/code/Users/jbrulato', 'creation_context': None, 'serialize': <msrest.serialization.Serializer object at 0x7f233d283940>, 'auth_mode': 'key', 'location': 'eastus', 'identity': <azure.ai.ml.entities._credentials.IdentityConfiguration object at 0x7f233d283dc0>, 'traffic': {'jake-mtcars-deploy': 100}, 'mirror_traffic': {}, 'kind': 'Managed'})"
          },
          "metadata": {}
        }
      ],
      "execution_count": 29,
      "metadata": {
        "tags": [],
        "gather": {
          "logged": 1730330389078
        }
      },
      "id": "b19098ee-b16a-478a-a2b2-1e7162b102f3"
    },
    {
      "cell_type": "markdown",
      "source": [
        "### Test the API"
      ],
      "metadata": {},
      "id": "34b513df-7fd4-489f-8952-d9ed8ecd3eb1"
    },
    {
      "cell_type": "code",
      "source": [
        "import pandas as pd\n",
        "\n",
        "uri = \"azureml://subscriptions/e9bc187a-e9a1-46be-822e-e955a2563601/resourcegroups/rg-dsba6190-class-dev-eastus-001/workspaces/mls-dsba6190-class-dev-eastus-001/datastores/stodsba6190class/paths/epsilon/mtcars.csv\"\n",
        "test_df = pd.read_csv(uri).head(2)\n",
        "\n",
        "test_data_json = test_df.to_json(orient=\"records\", indent=4)\n",
        "data = (\n",
        "    '{ \\\n",
        "          \"input_data\": {\"data\": '\n",
        "    + test_data_json\n",
        "    + \"}}\"\n",
        ")"
      ],
      "outputs": [],
      "execution_count": 30,
      "metadata": {
        "gather": {
          "logged": 1730330434397
        }
      },
      "id": "d4404d94-8ae6-44db-be5e-d24af82a330f"
    },
    {
      "cell_type": "code",
      "source": [
        "request_file_name = \"jake-request-mtcars.json\"\n",
        "\n",
        "with open(request_file_name, \"w\") as request_file:\n",
        "    request_file.write(data)\n",
        "\n",
        "# test the blue deployment with some sample data\n",
        "ml_client.online_endpoints.invoke(\n",
        "    endpoint_name=online_endpoint_name,\n",
        "    deployment_name=\"jake-mtcars-deploy\",\n",
        "    request_file=\"jake-request-mtcars.json\",\n",
        ")"
      ],
      "outputs": [
        {
          "output_type": "execute_result",
          "execution_count": 31,
          "data": {
            "text/plain": "'[20.8613029709733, 20.86187258885223]'"
          },
          "metadata": {}
        }
      ],
      "execution_count": 31,
      "metadata": {
        "gather": {
          "logged": 1730330491601
        }
      },
      "id": "8ffbeb29-c8ce-4ca7-be04-be2c7846b4bf"
    },
    {
      "cell_type": "markdown",
      "source": [
        "### Get Endpoint Details"
      ],
      "metadata": {},
      "id": "c718bba4-705b-4a4d-b8a9-0b43f95a7039"
    },
    {
      "cell_type": "code",
      "source": [
        "# Get the details for online endpoint\n",
        "endpoint = ml_client.online_endpoints.get(name=online_endpoint_name)\n",
        "\n",
        "# existing traffic details\n",
        "print(endpoint.traffic)\n",
        "\n",
        "# Get the scoring URI\n",
        "print(endpoint.scoring_uri)"
      ],
      "outputs": [
        {
          "output_type": "stream",
          "name": "stdout",
          "text": "{'jake-mtcars-deploy': 100}\nhttps://jake-mtcars-endpoint-01.eastus.inference.ml.azure.com/score\n"
        }
      ],
      "execution_count": 32,
      "metadata": {
        "gather": {
          "logged": 1730330497004
        }
      },
      "id": "e58bf594-48e5-4990-b8b8-c5f66e4d15c2"
    },
    {
      "cell_type": "code",
      "source": [
        "# Delete the deployment and endpoint\n",
        "ml_client.online_endpoints.begin_delete(name=online_endpoint_name)"
      ],
      "outputs": [
        {
          "output_type": "execute_result",
          "execution_count": 33,
          "data": {
            "text/plain": "<azure.core.polling._poller.LROPoller at 0x7f233d2833d0>"
          },
          "metadata": {}
        },
        {
          "output_type": "stream",
          "name": "stdout",
          "text": "................................................................."
        }
      ],
      "execution_count": 33,
      "metadata": {
        "gather": {
          "logged": 1730330994793
        }
      },
      "id": "e850bbe2-4de5-4a3f-806f-59698bbca820"
    },
    {
      "cell_type": "code",
      "source": [],
      "outputs": [],
      "execution_count": null,
      "metadata": {},
      "id": "da549748-39c2-41f1-8d72-b58d7c4dca79"
    }
  ],
  "metadata": {
    "kernel_info": {
      "name": "python310-sdkv2"
    },
    "kernelspec": {
      "name": "python310-sdkv2",
      "language": "python",
      "display_name": "Python 3.10 - SDK v2"
    },
    "language_info": {
      "name": "python",
      "version": "3.10.14",
      "mimetype": "text/x-python",
      "codemirror_mode": {
        "name": "ipython",
        "version": 3
      },
      "pygments_lexer": "ipython3",
      "nbconvert_exporter": "python",
      "file_extension": ".py"
    },
    "microsoft": {
      "ms_spell_check": {
        "ms_spell_check_language": "en"
      }
    },
    "nteract": {
      "version": "nteract-front-end@1.0.0"
    }
  },
  "nbformat": 4,
  "nbformat_minor": 5
}